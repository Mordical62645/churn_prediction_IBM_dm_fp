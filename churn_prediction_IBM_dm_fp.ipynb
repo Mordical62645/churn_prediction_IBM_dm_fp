{
 "cells": [
  {
   "cell_type": "code",
   "execution_count": null,
   "id": "12368224",
   "metadata": {
    "vscode": {
     "languageId": "plaintext"
    }
   },
   "outputs": [],
   "source": []
  }
 ],
 "metadata": {
  "language_info": {
   "name": "python"
  }
 },
 "nbformat": 4,
 "nbformat_minor": 5
}
