{
  "cells": [
    {
      "cell_type": "code",
      "execution_count": null,
      "id": "12368224",
      "metadata": {
        "vscode": {
          "languageId": "plaintext"
        },
        "id": "12368224"
      },
      "outputs": [],
      "source": [
        "#### LIBRARIES ####\n",
        "import pandas as pd\n",
        "import numpy as np\n",
        "\n",
        "# For splitting and scaling\n",
        "from sklearn.model_selection import train_test_split\n",
        "from sklearn.preprocessing import StandardScaler\n",
        "\n",
        "# For modeling and evaluation\n",
        "from sklearn.linear_model import LogisticRegression\n",
        "from sklearn.metrics import accuracy_score, confusion_matrix\n",
        "\n",
        "# For visualization\n",
        "import matplotlib.pyplot as plt\n",
        "import seaborn as sns\n",
        "\n",
        "# For handling imbalanced datasets\n",
        "from imblearn.over_sampling import SMOTE\n",
        "\n",
        "# For high-performance models\n",
        "import xgboost as xgb\n",
        "\n",
        "# Optional: for building a simple interactive web app\n",
        "import streamlit as st"
      ]
    },
    {
      "cell_type": "code",
      "source": [
        "#### DATASET ####\n",
        "# Load CSV\n",
        "file_path = \"IBM.csv\"\n",
        "df = pd.read_csv(file_path)\n",
        "# print(df)"
      ],
      "metadata": {
        "id": "ZCA_ZSF2znzJ"
      },
      "id": "ZCA_ZSF2znzJ",
      "execution_count": null,
      "outputs": []
    },
    {
      "cell_type": "code",
      "source": [
        "#### PREPROCESSING ####\n",
        "# Clean dataset\n",
        "columns_to_clean = [\n",
        "    'customerID', 'gender', 'SeniorCitizen', 'Partner', 'Dependents',\n",
        "    'tenure', 'PhoneService', 'MultipleLines', 'InternetService', 'OnlineSecurity',\n",
        "    'OnlineBackup', 'DeviceProtection', 'TechSupport', 'StreamingTV', 'StreamingMovies',\n",
        "    'Contract', 'PaperlessBilling', 'PaymentMethod', 'MonthlyCharges', 'TotalCharges', 'Churn'\n",
        "    ]\n",
        "for col in columns_to_clean:\n",
        "    df[col] = df[col].str.replace(',', '').astype(float)"
      ],
      "metadata": {
        "id": "03slDz01z-KA"
      },
      "id": "03slDz01z-KA",
      "execution_count": null,
      "outputs": []
    },
    {
      "cell_type": "code",
      "source": [
        "#### EXPLORATORY DATA ANALYSIS (EDA) ####"
      ],
      "metadata": {
        "id": "ehw9exZC0EEo"
      },
      "id": "ehw9exZC0EEo",
      "execution_count": null,
      "outputs": []
    },
    {
      "cell_type": "code",
      "source": [
        "#### HANDLE CLASS IMBALANCE ####"
      ],
      "metadata": {
        "id": "lY_2jbm20FGX"
      },
      "id": "lY_2jbm20FGX",
      "execution_count": null,
      "outputs": []
    },
    {
      "cell_type": "code",
      "source": [
        "#### TRAIN TEST SPLIT ####"
      ],
      "metadata": {
        "id": "-x-2-29R0G__"
      },
      "id": "-x-2-29R0G__",
      "execution_count": null,
      "outputs": []
    },
    {
      "cell_type": "code",
      "source": [
        "#### FEATURE SCALING ####"
      ],
      "metadata": {
        "id": "gbZ4o-hk0Ien"
      },
      "id": "gbZ4o-hk0Ien",
      "execution_count": null,
      "outputs": []
    },
    {
      "cell_type": "code",
      "source": [
        "#### MODELLING ####"
      ],
      "metadata": {
        "id": "uI-sEl3C0J4o"
      },
      "id": "uI-sEl3C0J4o",
      "execution_count": null,
      "outputs": []
    },
    {
      "cell_type": "code",
      "source": [
        "#### EVALUATION ####"
      ],
      "metadata": {
        "id": "9fX4jELL0LPv"
      },
      "id": "9fX4jELL0LPv",
      "execution_count": null,
      "outputs": []
    },
    {
      "cell_type": "code",
      "source": [
        "#### PREDICTION AND OUTPUT ####"
      ],
      "metadata": {
        "id": "CtLiZifH0MY_"
      },
      "id": "CtLiZifH0MY_",
      "execution_count": null,
      "outputs": []
    }
  ],
  "metadata": {
    "language_info": {
      "name": "python"
    },
    "colab": {
      "provenance": []
    }
  },
  "nbformat": 4,
  "nbformat_minor": 5
}