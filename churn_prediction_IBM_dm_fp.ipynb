{
  "cells": [
    {
      "cell_type": "code",
<<<<<<< HEAD
=======
      "source": [
        "!gdown --fuzzy \"https://drive.google.com/file/d/1rYFumAaLcacQb59IYC-g_8douKWOIkTi/view?usp=sharing\""
      ],
      "metadata": {
        "colab": {
          "base_uri": "https://localhost:8080/"
        },
        "id": "ILHve1kE6vLx",
        "outputId": "95a9c0b1-6d6c-43dc-c352-ddf8bb26cac0"
      },
      "id": "ILHve1kE6vLx",
      "execution_count": null,
      "outputs": [
        {
          "output_type": "stream",
          "name": "stdout",
          "text": [
            "Downloading...\n",
            "From: https://drive.google.com/uc?id=1rYFumAaLcacQb59IYC-g_8douKWOIkTi\n",
            "To: /content/IBM.csv\n",
            "\r  0% 0.00/978k [00:00<?, ?B/s]\r100% 978k/978k [00:00<00:00, 62.5MB/s]\n"
          ]
        }
      ]
    },
    {
      "cell_type": "code",
>>>>>>> 7201571 (notebook update)
      "execution_count": null,
      "id": "12368224",
      "metadata": {
        "vscode": {
          "languageId": "plaintext"
        },
        "id": "12368224"
      },
      "outputs": [],
      "source": [
        "#### LIBRARIES ####\n",
        "import pandas as pd\n",
        "import numpy as np\n",
        "\n",
        "# For splitting and scaling\n",
        "from sklearn.model_selection import train_test_split\n",
        "from sklearn.preprocessing import StandardScaler\n",
        "\n",
        "# For modeling and evaluation\n",
        "from sklearn.linear_model import LogisticRegression\n",
        "from sklearn.metrics import accuracy_score, confusion_matrix\n",
        "\n",
        "# For visualization\n",
        "import matplotlib.pyplot as plt\n",
        "import seaborn as sns\n",
        "\n",
        "# For handling imbalanced datasets\n",
        "from imblearn.over_sampling import SMOTE\n",
        "\n",
        "# For high-performance models\n",
        "import xgboost as xgb\n",
        "\n",
        "# Optional: for building a simple interactive web app\n",
        "import streamlit as st"
      ]
    },
    {
      "cell_type": "code",
      "source": [
        "#### DATASET ####\n",
        "# Load CSV\n",
        "file_path = \"IBM.csv\"\n",
        "df = pd.read_csv(file_path)\n",
<<<<<<< HEAD
        "# print(df)"
      ],
      "metadata": {
        "id": "ZCA_ZSF2znzJ"
      },
      "id": "ZCA_ZSF2znzJ",
      "execution_count": null,
      "outputs": []
=======
        "print(df.head()) # check column contents\n",
        "print(\"-\"*60,\"\\n\")"
      ],
      "metadata": {
        "id": "ZCA_ZSF2znzJ",
        "colab": {
          "base_uri": "https://localhost:8080/"
        },
        "outputId": "754d4bd8-cef0-4ed4-ab89-467f9421a06d"
      },
      "id": "ZCA_ZSF2znzJ",
      "execution_count": null,
      "outputs": [
        {
          "output_type": "stream",
          "name": "stdout",
          "text": [
            "   customerID  gender  SeniorCitizen Partner Dependents  tenure PhoneService  \\\n",
            "0  7590-VHVEG  Female              0     Yes         No       1           No   \n",
            "1  5575-GNVDE    Male              0      No         No      34          Yes   \n",
            "2  3668-QPYBK    Male              0      No         No       2          Yes   \n",
            "3  7795-CFOCW    Male              0      No         No      45           No   \n",
            "4  9237-HQITU  Female              0      No         No       2          Yes   \n",
            "\n",
            "      MultipleLines InternetService OnlineSecurity  ... DeviceProtection  \\\n",
            "0  No phone service             DSL             No  ...               No   \n",
            "1                No             DSL            Yes  ...              Yes   \n",
            "2                No             DSL            Yes  ...               No   \n",
            "3  No phone service             DSL            Yes  ...              Yes   \n",
            "4                No     Fiber optic             No  ...               No   \n",
            "\n",
            "  TechSupport StreamingTV StreamingMovies        Contract PaperlessBilling  \\\n",
            "0          No          No              No  Month-to-month              Yes   \n",
            "1          No          No              No        One year               No   \n",
            "2          No          No              No  Month-to-month              Yes   \n",
            "3         Yes          No              No        One year               No   \n",
            "4          No          No              No  Month-to-month              Yes   \n",
            "\n",
            "               PaymentMethod MonthlyCharges  TotalCharges Churn  \n",
            "0           Electronic check          29.85         29.85    No  \n",
            "1               Mailed check          56.95        1889.5    No  \n",
            "2               Mailed check          53.85        108.15   Yes  \n",
            "3  Bank transfer (automatic)          42.30       1840.75    No  \n",
            "4           Electronic check          70.70        151.65   Yes  \n",
            "\n",
            "[5 rows x 21 columns]\n",
            "------------------------------------------------------------ \n",
            "\n"
          ]
        }
      ]
>>>>>>> 7201571 (notebook update)
    },
    {
      "cell_type": "code",
      "source": [
<<<<<<< HEAD
        "#### PREPROCESSING ####\n",
        "# Clean dataset\n",
        "columns_to_clean = [\n",
        "    'customerID', 'gender', 'SeniorCitizen', 'Partner', 'Dependents',\n",
        "    'tenure', 'PhoneService', 'MultipleLines', 'InternetService', 'OnlineSecurity',\n",
        "    'OnlineBackup', 'DeviceProtection', 'TechSupport', 'StreamingTV', 'StreamingMovies',\n",
        "    'Contract', 'PaperlessBilling', 'PaymentMethod', 'MonthlyCharges', 'TotalCharges', 'Churn'\n",
        "    ]\n",
        "for col in columns_to_clean:\n",
        "    df[col] = df[col].str.replace(',', '').astype(float)"
      ],
      "metadata": {
        "id": "03slDz01z-KA"
      },
      "id": "03slDz01z-KA",
      "execution_count": null,
      "outputs": []
=======
        "#### DATA CLEANING ####\n",
        "# check for column datatypes\n",
        "print(df.info()) # TotalCharges' data type is string, which is weird. Blank strings might be the reason why it cannot be converted to float.\n",
        "print(\"-\"*60,\"\\n\")\n",
        "\n",
        "# work with missing values first because blank 'strings' cannot be converted to float\n",
        "print(df.isnull().sum()) # blank strings can be classified as not null.\n",
        "print(\"-\"*60,\"\\n\")\n",
        "\n",
        "# replace blank strings with NaN\n",
        "df['TotalCharges'] = df['TotalCharges'].replace(\" \", np.nan)\n",
        "print(df.isnull().sum()) # recheck missing values.\n",
        "print(\"-\"*60,\"\\n\")\n",
        "\n",
        "# convert TotalCharges to float\n",
        "df['TotalCharges'] = df['TotalCharges'].astype(float)\n",
        "print(df.info()) # recheck datatype\n",
        "print(\"-\"*60,\"\\n\")\n",
        "\n",
        "# Missing TotalCharges: 11 (less missing data are safe to drop, BRAD)\n",
        "df = df.dropna() # drop rows with missing (NaN) values: TotalCharges\n",
        "print(df.isnull().sum()) # check missing\n",
        "print(\"-\"*60,\"\\n\")\n",
        "\n",
        "# We'll temprorarily drop irrelevant columns for the model. This will reduce training load for the model to handle.\n",
        "# customerID is purely unique identifier. It's safe to drop.\n",
        "df = df.drop('customerID', axis = 1) # axis = 0: delete a row; axis = 1 delete a column\n",
        "\n",
        "# work with redundant data. I'll just use AI to check for that shit with 7000 rows motherfucker that's a lot to analyze.\n",
        "# According to my boy, BaiGPT. Mahimo natong i-standardize ang 'No phone service' ug 'No internet service' isip 'No' hinuon.\n",
        "# Let's just use \"No\" for 'No internet service' and 'No phone service'.\n",
        "df = df.replace({\n",
        "    'MultipleLines': {'No phone service':'No'},\n",
        "    'OnlineSecurity': {'No internet service':'No'},\n",
        "    'OnlineBackup': {'No internet service':'No'},\n",
        "    'DeviceProtection': {'No internet service':'No'},\n",
        "    'TechSupport': {'No internet service':'No'},\n",
        "    'StreamingTV': {'No internet service':'No'},\n",
        "    'StreamingMovies': {'No internet service':'No'},\n",
        "\n",
        "    # tinatamad na ako mag-ingles perd. May mga areas na okay naman like 'Bank transfer (automatic)' tsaka 'Credit card (automatic)'\n",
        "    # pwede naman na tanggaling yung '(automatic)' part.\n",
        "    # ganun din sa 'Contract' column. Yung casing lang like 'Month-To-Month' ganern!\n",
        "    'PaymentMethod': {\n",
        "        'Bank transfer (automatic)': 'Bank Transfer',\n",
        "        'Credit card (automatic)': 'Credit Card'\n",
        "    },\n",
        "    'Contract': {\n",
        "        'Month-to-month': 'Month-To-Month',\n",
        "        'One year': 'One Year',\n",
        "        'Two year': 'Two Year'\n",
        "    }\n",
        "})"
      ],
      "metadata": {
        "id": "03slDz01z-KA",
        "colab": {
          "base_uri": "https://localhost:8080/"
        },
        "outputId": "39d6644f-6866-4232-a0d9-c5434d2937e7"
      },
      "id": "03slDz01z-KA",
      "execution_count": null,
      "outputs": [
        {
          "output_type": "stream",
          "name": "stdout",
          "text": [
            "<class 'pandas.core.frame.DataFrame'>\n",
            "RangeIndex: 7043 entries, 0 to 7042\n",
            "Data columns (total 21 columns):\n",
            " #   Column            Non-Null Count  Dtype  \n",
            "---  ------            --------------  -----  \n",
            " 0   customerID        7043 non-null   object \n",
            " 1   gender            7043 non-null   object \n",
            " 2   SeniorCitizen     7043 non-null   int64  \n",
            " 3   Partner           7043 non-null   object \n",
            " 4   Dependents        7043 non-null   object \n",
            " 5   tenure            7043 non-null   int64  \n",
            " 6   PhoneService      7043 non-null   object \n",
            " 7   MultipleLines     7043 non-null   object \n",
            " 8   InternetService   7043 non-null   object \n",
            " 9   OnlineSecurity    7043 non-null   object \n",
            " 10  OnlineBackup      7043 non-null   object \n",
            " 11  DeviceProtection  7043 non-null   object \n",
            " 12  TechSupport       7043 non-null   object \n",
            " 13  StreamingTV       7043 non-null   object \n",
            " 14  StreamingMovies   7043 non-null   object \n",
            " 15  Contract          7043 non-null   object \n",
            " 16  PaperlessBilling  7043 non-null   object \n",
            " 17  PaymentMethod     7043 non-null   object \n",
            " 18  MonthlyCharges    7043 non-null   float64\n",
            " 19  TotalCharges      7043 non-null   object \n",
            " 20  Churn             7043 non-null   object \n",
            "dtypes: float64(1), int64(2), object(18)\n",
            "memory usage: 1.1+ MB\n",
            "None\n",
            "------------------------------------------------------------ \n",
            "\n",
            "customerID          0\n",
            "gender              0\n",
            "SeniorCitizen       0\n",
            "Partner             0\n",
            "Dependents          0\n",
            "tenure              0\n",
            "PhoneService        0\n",
            "MultipleLines       0\n",
            "InternetService     0\n",
            "OnlineSecurity      0\n",
            "OnlineBackup        0\n",
            "DeviceProtection    0\n",
            "TechSupport         0\n",
            "StreamingTV         0\n",
            "StreamingMovies     0\n",
            "Contract            0\n",
            "PaperlessBilling    0\n",
            "PaymentMethod       0\n",
            "MonthlyCharges      0\n",
            "TotalCharges        0\n",
            "Churn               0\n",
            "dtype: int64\n",
            "------------------------------------------------------------ \n",
            "\n",
            "customerID           0\n",
            "gender               0\n",
            "SeniorCitizen        0\n",
            "Partner              0\n",
            "Dependents           0\n",
            "tenure               0\n",
            "PhoneService         0\n",
            "MultipleLines        0\n",
            "InternetService      0\n",
            "OnlineSecurity       0\n",
            "OnlineBackup         0\n",
            "DeviceProtection     0\n",
            "TechSupport          0\n",
            "StreamingTV          0\n",
            "StreamingMovies      0\n",
            "Contract             0\n",
            "PaperlessBilling     0\n",
            "PaymentMethod        0\n",
            "MonthlyCharges       0\n",
            "TotalCharges        11\n",
            "Churn                0\n",
            "dtype: int64\n",
            "------------------------------------------------------------ \n",
            "\n",
            "<class 'pandas.core.frame.DataFrame'>\n",
            "RangeIndex: 7043 entries, 0 to 7042\n",
            "Data columns (total 21 columns):\n",
            " #   Column            Non-Null Count  Dtype  \n",
            "---  ------            --------------  -----  \n",
            " 0   customerID        7043 non-null   object \n",
            " 1   gender            7043 non-null   object \n",
            " 2   SeniorCitizen     7043 non-null   int64  \n",
            " 3   Partner           7043 non-null   object \n",
            " 4   Dependents        7043 non-null   object \n",
            " 5   tenure            7043 non-null   int64  \n",
            " 6   PhoneService      7043 non-null   object \n",
            " 7   MultipleLines     7043 non-null   object \n",
            " 8   InternetService   7043 non-null   object \n",
            " 9   OnlineSecurity    7043 non-null   object \n",
            " 10  OnlineBackup      7043 non-null   object \n",
            " 11  DeviceProtection  7043 non-null   object \n",
            " 12  TechSupport       7043 non-null   object \n",
            " 13  StreamingTV       7043 non-null   object \n",
            " 14  StreamingMovies   7043 non-null   object \n",
            " 15  Contract          7043 non-null   object \n",
            " 16  PaperlessBilling  7043 non-null   object \n",
            " 17  PaymentMethod     7043 non-null   object \n",
            " 18  MonthlyCharges    7043 non-null   float64\n",
            " 19  TotalCharges      7032 non-null   float64\n",
            " 20  Churn             7043 non-null   object \n",
            "dtypes: float64(2), int64(2), object(17)\n",
            "memory usage: 1.1+ MB\n",
            "None\n",
            "------------------------------------------------------------ \n",
            "\n",
            "customerID          0\n",
            "gender              0\n",
            "SeniorCitizen       0\n",
            "Partner             0\n",
            "Dependents          0\n",
            "tenure              0\n",
            "PhoneService        0\n",
            "MultipleLines       0\n",
            "InternetService     0\n",
            "OnlineSecurity      0\n",
            "OnlineBackup        0\n",
            "DeviceProtection    0\n",
            "TechSupport         0\n",
            "StreamingTV         0\n",
            "StreamingMovies     0\n",
            "Contract            0\n",
            "PaperlessBilling    0\n",
            "PaymentMethod       0\n",
            "MonthlyCharges      0\n",
            "TotalCharges        0\n",
            "Churn               0\n",
            "dtype: int64\n",
            "------------------------------------------------------------ \n",
            "\n"
          ]
        }
      ]
>>>>>>> 7201571 (notebook update)
    },
    {
      "cell_type": "code",
      "source": [
<<<<<<< HEAD
        "#### EXPLORATORY DATA ANALYSIS (EDA) ####"
      ],
      "metadata": {
        "id": "ehw9exZC0EEo"
      },
      "id": "ehw9exZC0EEo",
      "execution_count": null,
      "outputs": []
    },
    {
      "cell_type": "code",
      "source": [
        "#### HANDLE CLASS IMBALANCE ####"
      ],
      "metadata": {
        "id": "lY_2jbm20FGX"
      },
      "id": "lY_2jbm20FGX",
      "execution_count": null,
      "outputs": []
=======
        "#### HANDLE CLASS IMBALANCE + TRAIN TEST SPLIT ####\n",
        "# Map (not replace) numeric of 'Churn' instead of Yes or No, we'll do 1 or 0\n",
        "df['Churn'] = df['Churn'].map({'Yes': 1, 'No': 0})\n",
        "df_encoded = pd.get_dummies(df) # Turn categorical data to numeric\n",
        "\n",
        "# Define the features (X) and labels (y).\n",
        "X = df_encoded.drop(columns=['Churn'])\n",
        "# print(X)\n",
        "y = df_encoded['Churn']\n",
        "# print(y)\n",
        "\n",
        "# Use train_test_split() to divide into training and test sets.\n",
        "  # X_train: Features for training\n",
        "  # X_test: Features for testing\n",
        "  # y_train: Labels for training\n",
        "  # y_test: Labels for testing\n",
        "  # test_size is how much data goes into test set (denoted by 0.2 = 20%)\n",
        "  # random_state is the seed so results is reproducible. No seed = random\n",
        "  # stratify=y ensures the class distribution in y is preserved in both the train and test sets.\n",
        "X_train, X_test, y_train, y_test = train_test_split(X, y, test_size=0.2, random_state=42, stratify=y)\n",
        "  # 80% of data goes to training.\n",
        "  # 20% goes to testing.\n",
        "  # The proportion of churned vs. non-churned customers is the same in both sets.\n",
        "  # The split will always be the same every time you run it (because of random_state=42).\n",
        "\n",
        "# Apply SMOTE only to X_train and y_train.\n",
        "smote = SMOTE(random_state=42)\n",
        "X_train_resampled, y_train_resampled = smote.fit_resample(X_train, y_train)\n",
        "\n",
        "# Print value_counts() to confirm class balance.\n",
        "print(f\"Before SMOTE:\\n {y_train.value_counts()}\")\n",
        "print(\"-\"*60,\"\\n\")\n",
        "print(f\"Afer SMOTE:\\n {y_train_resampled.value_counts()}\")\n"
      ],
      "metadata": {
        "id": "lY_2jbm20FGX",
        "colab": {
          "base_uri": "https://localhost:8080/"
        },
        "outputId": "159b5dc7-676b-467e-e6c9-f4e66fe0c5be"
      },
      "id": "lY_2jbm20FGX",
      "execution_count": null,
      "outputs": [
        {
          "output_type": "stream",
          "name": "stdout",
          "text": [
            "Before SMOTE:\n",
            " Churn\n",
            "0    4130\n",
            "1    1495\n",
            "Name: count, dtype: int64\n",
            "------------------------------------------------------------ \n",
            "\n",
            "Afer SMOTE:\n",
            " Churn\n",
            "0    4130\n",
            "1    4130\n",
            "Name: count, dtype: int64\n"
          ]
        }
      ]
>>>>>>> 7201571 (notebook update)
    },
    {
      "cell_type": "code",
      "source": [
<<<<<<< HEAD
        "#### TRAIN TEST SPLIT ####"
      ],
      "metadata": {
        "id": "-x-2-29R0G__"
      },
      "id": "-x-2-29R0G__",
      "execution_count": null,
      "outputs": []
    },
    {
      "cell_type": "code",
      "source": [
        "#### FEATURE SCALING ####"
=======
        "#### FEATURE SCALING ####\n",
        "# Apply StandardScaler() or similar only to features (X), not labels (y).\n",
        "\n",
        "\n",
        "# Remember: fit on X_train, then transform both X_train and X_test.\n",
        "\n"
>>>>>>> 7201571 (notebook update)
      ],
      "metadata": {
        "id": "gbZ4o-hk0Ien"
      },
      "id": "gbZ4o-hk0Ien",
      "execution_count": null,
      "outputs": []
    },
    {
      "cell_type": "code",
      "source": [
<<<<<<< HEAD
        "#### MODELLING ####"
      ],
      "metadata": {
        "id": "uI-sEl3C0J4o"
      },
      "id": "uI-sEl3C0J4o",
=======
        "#### MODELLING ####\n",
        "# LogisticRegression\n",
        "\n",
        "\n",
        "# XGBoost\n",
        "\n",
        "\n",
        "# Fit the model using X_train and y_train\n",
        "\n"
      ],
      "metadata": {
        "id": "y1Ix8pkBkLHV"
      },
      "id": "y1Ix8pkBkLHV",
>>>>>>> 7201571 (notebook update)
      "execution_count": null,
      "outputs": []
    },
    {
      "cell_type": "code",
      "source": [
<<<<<<< HEAD
        "#### EVALUATION ####"
=======
        "#### EVALUATION ####\n",
        "# Predict on X_test.\n",
        "# Evaluate using:\n",
        "# Accuracy\n",
        "\n",
        "\n",
        "# Confusion matrix\n",
        "\n",
        "\n",
        "# Classification report (precision, recall, F1-score)\n",
        "\n"
>>>>>>> 7201571 (notebook update)
      ],
      "metadata": {
        "id": "9fX4jELL0LPv"
      },
      "id": "9fX4jELL0LPv",
      "execution_count": null,
      "outputs": []
    },
    {
      "cell_type": "code",
      "source": [
<<<<<<< HEAD
        "#### PREDICTION AND OUTPUT ####"
=======
        "#### PREDICTION AND OUTPUT ####\n"
>>>>>>> 7201571 (notebook update)
      ],
      "metadata": {
        "id": "CtLiZifH0MY_"
      },
      "id": "CtLiZifH0MY_",
      "execution_count": null,
      "outputs": []
    }
  ],
  "metadata": {
    "language_info": {
      "name": "python"
    },
    "colab": {
      "provenance": []
<<<<<<< HEAD
=======
    },
    "kernelspec": {
      "name": "python3",
      "display_name": "Python 3"
>>>>>>> 7201571 (notebook update)
    }
  },
  "nbformat": 4,
  "nbformat_minor": 5
}