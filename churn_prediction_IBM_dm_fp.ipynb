{
  "cells": [
    {
      "cell_type": "code",
      "execution_count": null,
      "id": "12368224",
      "metadata": {
        "vscode": {
          "languageId": "plaintext"
        },
        "id": "12368224"
      },
      "outputs": [],
      "source": [
        "#### LIBRARIES ####\n",
        "import pandas as pd\n",
        "import numpy as np\n",
        "\n",
        "# For splitting and scaling\n",
        "from sklearn.model_selection import train_test_split\n",
        "from sklearn.preprocessing import StandardScaler\n",
        "\n",
        "# For modeling and evaluation\n",
        "from sklearn.linear_model import LogisticRegression\n",
        "from sklearn.metrics import accuracy_score, confusion_matrix\n",
        "\n",
        "# For visualization\n",
        "import matplotlib.pyplot as plt\n",
        "import seaborn as sns\n",
        "\n",
        "# For handling imbalanced datasets\n",
        "from imblearn.over_sampling import SMOTE\n",
        "\n",
        "# For high-performance models\n",
        "import xgboost as xgb\n",
        "\n",
        "# Optional: for building a simple interactive web app\n",
        "import streamlit as st"
      ]
    }
  ],
  "metadata": {
    "language_info": {
      "name": "python"
    },
    "colab": {
      "provenance": []
    }
  },
  "nbformat": 4,
  "nbformat_minor": 5
}